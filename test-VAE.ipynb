{
 "cells": [
  {
   "cell_type": "code",
   "execution_count": 1,
   "id": "2a40e14d",
   "metadata": {
    "cell_id": "00000-2eb3047b-e426-4c5c-9fc0-4485f4aa5565",
    "deepnote_cell_type": "code",
    "deepnote_to_be_reexecuted": false,
    "execution_millis": 2648,
    "execution_start": 1620812344465,
    "source_hash": "f854b67d"
   },
   "outputs": [],
   "source": [
    "import torch\n",
    "\n",
    "from pkg.datasets import IDSDataset\n",
    "from pkg.lit_vae import LitIDSVAE"
   ]
  },
  {
   "cell_type": "code",
   "execution_count": 2,
   "id": "2ff81f8c",
   "metadata": {
    "cell_id": "00001-992aea33-56a8-47d7-bba3-f1f6278d5e59",
    "deepnote_cell_type": "code",
    "deepnote_to_be_reexecuted": false,
    "execution_millis": 229,
    "execution_start": 1620812347118,
    "source_hash": "6f8a64d9",
    "tags": []
   },
   "outputs": [],
   "source": [
    "from torchvision import transforms, utils\n",
    "from tqdm import tqdm\n",
    "import pickle\n",
    "import pandas as pd\n",
    "# Маппинги айпи адресов\n",
    "with open('Data/sip_map.pkl', 'rb') as f:\n",
    "    sip_map = pickle.load(f)\n",
    "with open('Data/dip_map.pkl', 'rb') as f:\n",
    "    dip_map = pickle.load(f)"
   ]
  },
  {
   "cell_type": "code",
   "execution_count": 3,
   "id": "df6f8c45",
   "metadata": {
    "cell_id": "00002-cdb90963-e071-4c14-abc2-3a3795c6b94e",
    "deepnote_cell_type": "code",
    "deepnote_to_be_reexecuted": false,
    "execution_millis": 78,
    "execution_start": 1620812347351,
    "source_hash": "cdba247a"
   },
   "outputs": [],
   "source": [
    "PATH = 'Models/vae-final-epoch=26-step=68421.ckpt'\n",
    "model = LitIDSVAE.load_from_checkpoint(PATH, sip_map=sip_map, dip_map=dip_map, map_location=torch.device('cpu'))"
   ]
  },
  {
   "cell_type": "code",
   "execution_count": 4,
   "id": "f9e16716",
   "metadata": {
    "cell_id": "00003-fcb92981-ece5-4e32-af67-f9b994a328cf",
    "deepnote_cell_type": "code",
    "deepnote_to_be_reexecuted": false,
    "execution_millis": 5557,
    "execution_start": 1620812359490,
    "source_hash": "d0078e6"
   },
   "outputs": [],
   "source": [
    "from torchvision import transforms, utils\n",
    "from tqdm import tqdm, tqdm_notebook\n",
    "import pickle\n",
    "import pandas as pd\n",
    "\n",
    "ds_test = IDSDataset('Data/all_test.csv', sip_map, dip_map, only_anomaly=False, transform=True,\n",
    "                    stat=pd.read_csv('Data/all_stat.csv').rename({0:'count', 1:'mean', 2:'std', 3:'min', 4:'25%', 5:'50%', 6:'75%', 7:'max'}))\n",
    "test_dataloader = torch.utils.data.DataLoader(ds_test, batch_size=3**5,\n",
    "                        shuffle=False, num_workers=4)"
   ]
  },
  {
   "cell_type": "code",
   "execution_count": 11,
   "id": "c7a38306",
   "metadata": {
    "cell_id": "00004-a76f4706-ea92-447e-8cb8-36bed43cf3d3",
    "deepnote_cell_type": "code"
   },
   "outputs": [],
   "source": [
    "device = torch.device('cpu')\n",
    "model = model.to(device)"
   ]
  },
  {
   "cell_type": "code",
   "execution_count": 12,
   "id": "db5a43c9",
   "metadata": {
    "cell_id": "00005-0e2b82af-aff6-4b88-9657-c293bfd499f6",
    "deepnote_cell_type": "code"
   },
   "outputs": [
    {
     "name": "stderr",
     "output_type": "stream",
     "text": [
      "100%|██████████| 871/871 [02:11<00:00,  6.60it/s]\n"
     ]
    }
   ],
   "source": [
    "losses = []\n",
    "mses =[]\n",
    "labels = []\n",
    "with torch.no_grad():\n",
    "    model.eval()\n",
    "    for row in tqdm(test_dataloader):\n",
    "        categorical = row[0].to(device)\n",
    "        continuous =  row[1].to(device).unsqueeze(-2)\n",
    "        labels.append(row[2])\n",
    "        x = model.categorical_emb(categorical, continuous) \n",
    "        x_hat, mu, logvar = model(x)\n",
    "        dist = -0.5 * torch.sum(1 + logvar - mu.pow(2) - logvar.exp(), dim = -1)\n",
    "        mse = torch.sum(torch.nn.functional.mse_loss(x_hat, continuous, reduction='none'), dim=-1)\n",
    "        mses.append(mse.squeeze())\n",
    "        # dist = torch.mean(dist, dim=-1)\n",
    "        losses.append(dist.squeeze())"
   ]
  },
  {
   "cell_type": "code",
   "execution_count": 13,
   "id": "bf667402",
   "metadata": {
    "cell_id": "00006-b60ca836-e3ee-4135-99d1-1da44e3a0726",
    "deepnote_cell_type": "code"
   },
   "outputs": [
    {
     "data": {
      "text/plain": [
       "torch.Size([243])"
      ]
     },
     "execution_count": 13,
     "metadata": {},
     "output_type": "execute_result"
    }
   ],
   "source": [
    "losses[0].shape"
   ]
  },
  {
   "cell_type": "code",
   "execution_count": 14,
   "id": "3ed79087",
   "metadata": {
    "cell_id": "00007-9a77b2e3-4afc-4199-9667-9cf12acfc4c8",
    "deepnote_cell_type": "code"
   },
   "outputs": [],
   "source": [
    "new_dict = {'dist': torch.cat(losses).cpu().numpy(), 'mse':torch.cat(mses).cpu().numpy()}\n",
    "labels_cat = torch.cat(labels) != 0\n",
    "# losses_cat = torch.cat(val_losses).cpu()\n",
    "test_out = pd.DataFrame({ 'is_benign':labels_cat, 'attack_class': torch.cat(labels).numpy(), **new_dict})\n",
    "test_out.to_csv('test_results_vae.csv')"
   ]
  },
  {
   "cell_type": "code",
   "execution_count": 15,
   "id": "f0a280d9",
   "metadata": {
    "cell_id": "00008-28e4627d-6d51-40ca-af51-a6bc01afa74f",
    "deepnote_cell_type": "code"
   },
   "outputs": [],
   "source": [
    "import numpy as np\n",
    "new_dict['dist'][np.isnan(new_dict['dist'])] = 0\n",
    "new_dict['dist'][np.isinf(new_dict['dist'])] = 1e+6"
   ]
  },
  {
   "cell_type": "code",
   "execution_count": 16,
   "id": "50b0d456",
   "metadata": {
    "cell_id": "00009-4fc5c2c3-a721-46aa-a844-f386ccc6b92e",
    "deepnote_cell_type": "code"
   },
   "outputs": [
    {
     "data": {
      "text/plain": [
       "<matplotlib.legend.Legend at 0x7f3ec1fa7910>"
      ]
     },
     "execution_count": 16,
     "metadata": {},
     "output_type": "execute_result"
    },
    {
     "data": {
      "image/png": "[encoded data removed]",
      "text/plain": [
       "<Figure size 432x288 with 1 Axes>"
      ]
     },
     "metadata": {
      "needs_background": "light"
     },
     "output_type": "display_data"
    }
   ],
   "source": [
    "from sklearn.metrics import auc, roc_curve\n",
    "import matplotlib.pyplot as plt\n",
    "fpr, tpr, thresholds = roc_curve(labels_cat.int().numpy(), new_dict['mse'])\n",
    "roc_auc = auc(fpr, tpr)\n",
    "fig, ax = plt.subplots()\n",
    "ax.plot(fpr, tpr, \n",
    "             label='ROC curve (area = {0:0.2f})'\n",
    "             ''.format(roc_auc))\n",
    "ax.plot([0, 1], [0, 1], color='navy', linestyle='--')\n",
    "ax.set_xlim([0.0, 1.0])\n",
    "ax.set_ylim([0.0, 1.05])\n",
    "ax.set_xlabel('False Positive Rate')\n",
    "ax.set_ylabel('True Positive Rate')\n",
    "ax.legend(loc=\"lower right\")"
   ]
  },
  {
   "cell_type": "code",
   "execution_count": 17,
   "id": "ca69df42",
   "metadata": {
    "cell_id": "00010-a44516f3-865f-4780-92d0-cf76e1e6c564",
    "deepnote_cell_type": "code"
   },
   "outputs": [
    {
     "data": {
      "text/plain": [
       "(52503,)"
      ]
     },
     "execution_count": 17,
     "metadata": {},
     "output_type": "execute_result"
    }
   ],
   "source": [
    "thresholds.shape"
   ]
  },
  {
   "cell_type": "code",
   "execution_count": 18,
   "id": "a4518f32",
   "metadata": {
    "cell_id": "00011-6165eab8-fc8b-4a43-8e39-afade3e63881",
    "deepnote_cell_type": "code"
   },
   "outputs": [],
   "source": [
    "IDX = -10\n",
    "threshold = thresholds[IDX]\n",
    "test_out['predicted'] = test_out.dist < threshold"
   ]
  },
  {
   "cell_type": "code",
   "execution_count": 19,
   "id": "ac2f8ea6",
   "metadata": {
    "cell_id": "00012-52c3d26b-4052-410e-b5ce-d0739b1220ff",
    "deepnote_cell_type": "code"
   },
   "outputs": [
    {
     "name": "stdout",
     "output_type": "stream",
     "text": [
      "              precision    recall  f1-score   support\n",
      "\n",
      "      Attack       0.75      1.00      0.86    158628\n",
      "   No attack       0.00      0.00      0.00     53007\n",
      "\n",
      "    accuracy                           0.75    211635\n",
      "   macro avg       0.37      0.50      0.43    211635\n",
      "weighted avg       0.56      0.75      0.64    211635\n",
      "\n"
     ]
    },
    {
     "name": "stderr",
     "output_type": "stream",
     "text": [
      "/home/akerika/anaconda3/lib/python3.7/site-packages/sklearn/metrics/_classification.py:1272: UndefinedMetricWarning: Precision and F-score are ill-defined and being set to 0.0 in labels with no predicted samples. Use `zero_division` parameter to control this behavior.\n",
      "  _warn_prf(average, modifier, msg_start, len(result))\n"
     ]
    }
   ],
   "source": [
    "from sklearn.metrics import classification_report, f1_score\n",
    "y_gts = test_out['is_benign']\n",
    "y_preds = test_out['predicted']\n",
    "rep = classification_report(y_gts, y_preds, target_names=['Attack', 'No attack'])\n",
    "print(rep)"
   ]
  },
  {
   "cell_type": "code",
   "execution_count": null,
   "id": "cd1c7f03",
   "metadata": {
    "cell_id": "00013-d4764a6e-dde1-49e8-9928-cd7c66605c5b",
    "deepnote_cell_type": "code"
   },
   "outputs": [],
   "source": []
  },
  {
   "cell_type": "markdown",
   "id": "d5e9cab5",
   "metadata": {
    "created_in_deepnote_cell": true,
    "deepnote_cell_type": "markdown",
    "tags": []
   },
   "source": [
    "<a style='text-decoration:none;line-height:16px;display:flex;color:#5B5B62;padding:10px;justify-content:end;' href='https://deepnote.com?utm_source=created-in-deepnote-cell&projectId=56316f98-13a2-452c-be31-8997c1e2f7a7' target=\"_blank\">\n",
    "<img alt='Created in deepnote.com' style='display:inline;max-height:16px;margin:0px;margin-right:7.5px;' src='data:image/svg+xml;base64,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' > </img>\n",
    "Created in <span style='font-weight:600;margin-left:4px;'>Deepnote</span></a>"
   ]
  }
 ],
 "metadata": {
  "deepnote": {},
  "deepnote_execution_queue": [],
  "deepnote_notebook_id": "978a499d-52fc-4856-8f94-69ecae0fb56f",
  "kernelspec": {
   "display_name": "Python 3",
   "language": "python",
   "name": "python3"
  },
  "language_info": {
   "codemirror_mode": {
    "name": "ipython",
    "version": 3
   },
   "file_extension": ".py",
   "mimetype": "text/x-python",
   "name": "python",
   "nbconvert_exporter": "python",
   "pygments_lexer": "ipython3",
   "version": "3.8.5"
  }
 },
 "nbformat": 4,
 "nbformat_minor": 5
}
