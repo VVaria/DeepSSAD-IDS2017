{
 "cells": [
  {
   "cell_type": "code",
   "execution_count": 1,
   "id": "a4049909",
   "metadata": {
    "cell_id": "00000-050f6fa9-3e8c-4d09-ae11-187e4405ea40",
    "deepnote_cell_type": "code",
    "deepnote_to_be_reexecuted": false,
    "execution_millis": 3709,
    "execution_start": 1620811719055,
    "source_hash": "a2bde15c"
   },
   "outputs": [],
   "source": [
    "import torch\n",
    "from pkg.datasets import IDSDataset\n",
    "from pkg.lit_sad import LitIDSVAE_SAD"
   ]
  },
  {
   "cell_type": "code",
   "execution_count": 2,
   "id": "79ddc4a3",
   "metadata": {
    "cell_id": "00001-6cad1771-af44-4e05-b063-dd8694e04b3c",
    "deepnote_cell_type": "code",
    "deepnote_to_be_reexecuted": false,
    "execution_millis": 302,
    "execution_start": 1620811722771,
    "source_hash": "6f8a64d9",
    "tags": []
   },
   "outputs": [],
   "source": [
    "from torchvision import transforms, utils\n",
    "from tqdm import tqdm\n",
    "import pickle\n",
    "import pandas as pd\n",
    "# Маппинги айпи адресов\n",
    "with open('Data/sip_map.pkl', 'rb') as f:\n",
    "    sip_map = pickle.load(f)\n",
    "with open('Data/dip_map.pkl', 'rb') as f:\n",
    "    dip_map = pickle.load(f)"
   ]
  },
  {
   "cell_type": "code",
   "execution_count": 3,
   "id": "821bd19c",
   "metadata": {
    "cell_id": "00003-803cb756-8dde-4d6c-b2ab-5509111e1625",
    "deepnote_cell_type": "code",
    "deepnote_to_be_reexecuted": false,
    "execution_millis": 59,
    "execution_start": 1620811723657,
    "source_hash": "1f353c4d"
   },
   "outputs": [],
   "source": [
    "PATH = 'Models/vae-sad-epoch=6-step=20922.ckpt'\n",
    "model = LitIDSVAE_SAD.load_from_checkpoint(PATH, sip_map=sip_map, dip_map=dip_map, use_category=False)"
   ]
  },
  {
   "cell_type": "code",
   "execution_count": 4,
   "id": "7a71397c",
   "metadata": {
    "cell_id": "00004-b47db160-dc4a-4e61-8dca-a7c88d393018",
    "deepnote_cell_type": "code",
    "deepnote_to_be_reexecuted": false,
    "execution_millis": 5670,
    "execution_start": 1620813063045,
    "source_hash": "18e8dc13"
   },
   "outputs": [],
   "source": [
    "from torchvision import transforms, utils\n",
    "from tqdm import tqdm, tqdm_notebook\n",
    "import pickle\n",
    "import pandas as pd\n",
    "\n",
    "ds_test = IDSDataset('Data/all_test.csv', sip_map, dip_map, only_anomaly=False, transform=True,\n",
    "                    stat=pd.read_csv('Data/all_stat.csv').rename({0:'count', 1:'mean', 2:'std', 3:'min', 4:'25%', 5:'50%', 6:'75%', 7:'max'}))\n",
    "                    \n",
    "test_dataloader = torch.utils.data.DataLoader(ds_test, batch_size=3**4,\n",
    "                        shuffle=False, num_workers=4)"
   ]
  },
  {
   "cell_type": "code",
   "execution_count": 6,
   "id": "2c8cb91d",
   "metadata": {
    "cell_id": "00005-278993bb-470b-4205-9ec9-f23e78e9fd41",
    "deepnote_cell_type": "code",
    "deepnote_to_be_reexecuted": true,
    "execution_millis": 5,
    "execution_start": 1620593126996,
    "source_hash": "34d07bc8"
   },
   "outputs": [],
   "source": [
    "device = torch.device('cpu')\n",
    "model = model.to(device)"
   ]
  },
  {
   "cell_type": "code",
   "execution_count": 7,
   "id": "6388e654",
   "metadata": {
    "cell_id": "00006-dbd77e8e-a3bd-4084-b7e2-193fd8305795",
    "deepnote_cell_type": "code",
    "deepnote_to_be_reexecuted": false,
    "execution_millis": 276037,
    "execution_start": 1620593131456,
    "source_hash": "de32a506"
   },
   "outputs": [
    {
     "name": "stderr",
     "output_type": "stream",
     "text": [
      "100%|██████████| 2613/2613 [02:24<00:00, 18.08it/s]\n"
     ]
    }
   ],
   "source": [
    "losses = []\n",
    "labels = []\n",
    "with torch.no_grad():\n",
    "    model.eval()\n",
    "    for row in tqdm(test_dataloader):\n",
    "        categorical = row[0].to(device)\n",
    "        continuous =  row[1].to(device).unsqueeze(-2)\n",
    "        labels.append(row[2])\n",
    "        x = model.categorical_emb(categorical, continuous) \n",
    "        mu_p, logvar_p = model(x)\n",
    "        dist = 0.5 * torch.sum(model.v_c - logvar_p  - 1 + (mu_p - model.m_c) * \\\n",
    "            (1 / model.v_c.exp()) * (mu_p - model.m_c) + \\\n",
    "              (1 / model.v_c.exp()) * logvar_p.exp(), dim=-1)\n",
    "        # dist = torch.mean(dist, dim=-1)\n",
    "        losses.append(dist)"
   ]
  },
  {
   "cell_type": "code",
   "execution_count": 8,
   "id": "180aa066",
   "metadata": {
    "cell_id": "00007-668a20ae-7a96-43ef-86c9-b17750f016c5",
    "deepnote_cell_type": "code",
    "deepnote_to_be_reexecuted": false,
    "execution_millis": 828,
    "execution_start": 1620593419705,
    "source_hash": "ae24d1e9"
   },
   "outputs": [],
   "source": [
    "new_dict = {'dist': torch.cat(losses).cpu().numpy()}\n",
    "labels_cat = torch.cat(labels) != 0\n",
    "# losses_cat = torch.cat(val_losses).cpu()\n",
    "test_out = pd.DataFrame({ 'is_attack':labels_cat, 'attack_class': torch.cat(labels).numpy(), **new_dict})\n",
    "test_out.to_csv('test_results_sad.csv')"
   ]
  },
  {
   "cell_type": "code",
   "execution_count": 9,
   "id": "51cc3713",
   "metadata": {
    "cell_id": "00008-0823083d-31d0-42fb-b637-c8a682d5c23a",
    "deepnote_cell_type": "code",
    "deepnote_to_be_reexecuted": false,
    "execution_millis": 6,
    "execution_start": 1620593422196,
    "source_hash": "341b7e0c"
   },
   "outputs": [],
   "source": [
    "import numpy as np\n",
    "new_dict['dist'][np.isnan(new_dict['dist'])] = 0\n",
    "new_dict['dist'][np.isinf(new_dict['dist'])] = 1e+6"
   ]
  },
  {
   "cell_type": "code",
   "execution_count": 10,
   "id": "3070a010",
   "metadata": {
    "cell_id": "00009-f8aaea77-3027-4e61-9b3c-54170b1b831d",
    "deepnote_cell_type": "code",
    "deepnote_to_be_reexecuted": false,
    "execution_millis": 2460,
    "execution_start": 1620593423921,
    "source_hash": "bf65fb19"
   },
   "outputs": [
    {
     "data": {
      "text/plain": [
       "<matplotlib.legend.Legend at 0x7fab94afc690>"
      ]
     },
     "execution_count": 10,
     "metadata": {},
     "output_type": "execute_result"
    },
    {
     "data": {
      "image/png": "[encoded data removed]",
      "text/plain": [
       "<Figure size 432x288 with 1 Axes>"
      ]
     },
     "metadata": {
      "needs_background": "light"
     },
     "output_type": "display_data"
    }
   ],
   "source": [
    "from sklearn.metrics import auc, roc_curve\n",
    "import matplotlib.pyplot as plt\n",
    "fpr, tpr, thresholds = roc_curve(labels_cat.int().numpy(), new_dict['dist'])\n",
    "roc_auc = auc(fpr, tpr)\n",
    "fig, ax = plt.subplots()\n",
    "ax.plot(fpr, tpr, \n",
    "             label='ROC curve (area = {0:0.2f})'\n",
    "             ''.format(roc_auc))\n",
    "ax.plot([0, 1], [0, 1], color='navy', linestyle='--')\n",
    "ax.set_xlim([0.0, 1.0])\n",
    "ax.set_ylim([0.0, 1.05])\n",
    "ax.set_xlabel('False Positive Rate')\n",
    "ax.set_ylabel('True Positive Rate')\n",
    "ax.legend(loc=\"lower right\")"
   ]
  },
  {
   "cell_type": "code",
   "execution_count": 11,
   "id": "465ddab2",
   "metadata": {
    "cell_id": "00010-3ebd648a-7f63-48d7-84b4-66eb2b70b1a7",
    "deepnote_cell_type": "code",
    "deepnote_to_be_reexecuted": false,
    "execution_millis": 11,
    "execution_start": 1620593431971,
    "source_hash": "1dfc0e7f"
   },
   "outputs": [],
   "source": [
    "thresh_dist = np.sqrt((1 - fpr) ** 2 + tpr ** 2)"
   ]
  },
  {
   "cell_type": "code",
   "execution_count": 12,
   "id": "6fe29ae2",
   "metadata": {
    "cell_id": "00011-a55f9770-3037-49d1-babb-4da6543bc4af",
    "deepnote_cell_type": "code",
    "deepnote_to_be_reexecuted": false,
    "execution_millis": 30,
    "execution_start": 1620593434345,
    "source_hash": "f47e87ac"
   },
   "outputs": [
    {
     "data": {
      "text/plain": [
       "8037"
      ]
     },
     "execution_count": 12,
     "metadata": {},
     "output_type": "execute_result"
    }
   ],
   "source": [
    "np.argmax(thresh_dist)"
   ]
  },
  {
   "cell_type": "code",
   "execution_count": 13,
   "id": "5c76e29a",
   "metadata": {
    "cell_id": "00012-de54cada-4af7-4aa6-8fa9-c7e7aed4c934",
    "deepnote_cell_type": "code",
    "deepnote_to_be_reexecuted": false,
    "execution_millis": 1,
    "execution_start": 1620593437057,
    "source_hash": "8ce22730"
   },
   "outputs": [],
   "source": [
    "IDX = 8040\n",
    "threshold = thresholds[IDX]\n",
    "test_out['predicted'] = test_out.dist > threshold"
   ]
  },
  {
   "cell_type": "code",
   "execution_count": 14,
   "id": "47efe968",
   "metadata": {
    "cell_id": "00013-e67f95df-84de-4537-8c7c-bac89f0eb26e",
    "deepnote_cell_type": "code",
    "deepnote_to_be_reexecuted": false,
    "execution_millis": 311,
    "execution_start": 1620593438402,
    "source_hash": "89936271"
   },
   "outputs": [
    {
     "name": "stdout",
     "output_type": "stream",
     "text": [
      "              precision    recall  f1-score   support\n",
      "\n",
      "   No attack       0.98      0.77      0.86    158628\n",
      "      Attack       0.58      0.96      0.72     53007\n",
      "\n",
      "    accuracy                           0.82    211635\n",
      "   macro avg       0.78      0.86      0.79    211635\n",
      "weighted avg       0.88      0.82      0.83    211635\n",
      "\n"
     ]
    }
   ],
   "source": [
    "from sklearn.metrics import classification_report, f1_score\n",
    "y_gts = test_out['is_attack']\n",
    "y_preds = test_out['predicted']\n",
    "rep = classification_report(y_gts, y_preds, target_names=['No attack', 'Attack'])\n",
    "print(rep)"
   ]
  },
  {
   "cell_type": "code",
   "execution_count": null,
   "id": "6793fc2b",
   "metadata": {
    "cell_id": "00014-d7071e99-1ee4-4152-b9b6-3823465e4f45",
    "deepnote_cell_type": "code"
   },
   "outputs": [],
   "source": []
  },
  {
   "cell_type": "markdown",
   "id": "d7a3c327",
   "metadata": {
    "created_in_deepnote_cell": true,
    "deepnote_cell_type": "markdown",
    "tags": []
   },
   "source": [
    "<a style='text-decoration:none;line-height:16px;display:flex;color:#5B5B62;padding:10px;justify-content:end;' href='https://deepnote.com?utm_source=created-in-deepnote-cell&projectId=56316f98-13a2-452c-be31-8997c1e2f7a7' target=\"_blank\">\n",
    "<img alt='Created in deepnote.com' style='display:inline;max-height:16px;margin:0px;margin-right:7.5px;' src='data:image/svg+xml;base64,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' > </img>\n",
    "Created in <span style='font-weight:600;margin-left:4px;'>Deepnote</span></a>"
   ]
  }
 ],
 "metadata": {
  "deepnote": {},
  "deepnote_execution_queue": [],
  "deepnote_notebook_id": "15195829-2fd4-4ebb-83a3-18d5128845ff",
  "kernelspec": {
   "display_name": "Python 3",
   "language": "python",
   "name": "python3"
  },
  "language_info": {
   "codemirror_mode": {
    "name": "ipython",
    "version": 3
   },
   "file_extension": ".py",
   "mimetype": "text/x-python",
   "name": "python",
   "nbconvert_exporter": "python",
   "pygments_lexer": "ipython3",
   "version": "3.8.5"
  }
 },
 "nbformat": 4,
 "nbformat_minor": 5
}
