{
 "cells": [
  {
   "cell_type": "code",
   "execution_count": 1,
   "id": "f6afbe36",
   "metadata": {
    "cell_id": "00000-eee85484-58da-4969-acc3-7059805cc4f5",
    "deepnote_cell_type": "code",
    "deepnote_to_be_reexecuted": false,
    "execution_millis": 11,
    "execution_start": 1621277073233,
    "scrolled": true,
    "source_hash": "f4602174"
   },
   "outputs": [],
   "source": [
    "import torch"
   ]
  },
  {
   "cell_type": "code",
   "execution_count": 2,
   "id": "175141f0",
   "metadata": {},
   "outputs": [],
   "source": [
    "from pkg.datasets import IDSDataset\n",
    "from pkg.lit_ae import LitIDSAE"
   ]
  },
  {
   "cell_type": "code",
   "execution_count": 3,
   "id": "7fbf605a",
   "metadata": {
    "cell_id": "00001-997c6526-dbd1-4be1-bea3-c075efea1a53",
    "deepnote_cell_type": "code",
    "deepnote_to_be_reexecuted": false,
    "execution_millis": 274,
    "execution_start": 1621277277101,
    "source_hash": "6f8a64d9",
    "tags": []
   },
   "outputs": [],
   "source": [
    "from torchvision import transforms, utils\n",
    "from tqdm import tqdm\n",
    "import pickle\n",
    "import pandas as pd\n",
    "# Маппинги айпи адресов\n",
    "with open('Data/sip_map.pkl', 'rb') as f:\n",
    "    sip_map = pickle.load(f)\n",
    "with open('Data/dip_map.pkl', 'rb') as f:\n",
    "    dip_map = pickle.load(f)"
   ]
  },
  {
   "cell_type": "code",
   "execution_count": 4,
   "id": "68906a24",
   "metadata": {
    "cell_id": "00002-6dfdb107-d3c5-457c-864e-bb4e809a5559",
    "deepnote_cell_type": "code",
    "deepnote_to_be_reexecuted": false,
    "execution_millis": 86,
    "execution_start": 1621277277381,
    "source_hash": "df018871"
   },
   "outputs": [],
   "source": [
    "PATH = 'Models/autoencoder-final-epoch=26-step=68302.ckpt'\n",
    "model = LitIDSAE.load_from_checkpoint(PATH, sip_map=sip_map, dip_map=dip_map, map_location=torch.device('cpu'), use_category=False)"
   ]
  },
  {
   "cell_type": "code",
   "execution_count": 5,
   "id": "80e0c82f",
   "metadata": {
    "cell_id": "00003-c893a573-b9b4-47ed-a48b-2f535d4f34e1",
    "deepnote_cell_type": "code",
    "deepnote_to_be_reexecuted": false,
    "execution_millis": 5528,
    "execution_start": 1620814107514,
    "output_cleared": false,
    "source_hash": "d0078e6"
   },
   "outputs": [],
   "source": [
    "from torchvision import transforms, utils\n",
    "from tqdm import tqdm, tqdm_notebook\n",
    "import pickle\n",
    "import pandas as pd\n",
    "\n",
    "ds_test = IDSDataset('Data/all_test.csv', sip_map, dip_map, only_anomaly=False, transform=True,\n",
    "                    stat=pd.read_csv('Data/all_stat.csv').rename({0:'count', 1:'mean', 2:'std', 3:'min', 4:'25%', 5:'50%', 6:'75%', 7:'max'}))\n",
    "test_dataloader = torch.utils.data.DataLoader(ds_test, batch_size=3**5,\n",
    "                        shuffle=False, num_workers=4)"
   ]
  },
  {
   "cell_type": "code",
   "execution_count": 6,
   "id": "5dfe8548",
   "metadata": {
    "cell_id": "00004-0c1abc1d-ed79-4a3a-834d-bf0a1c08e6a1",
    "deepnote_cell_type": "code",
    "deepnote_to_be_reexecuted": false,
    "execution_millis": 24,
    "execution_start": 1620758654174,
    "source_hash": "34d07bc8"
   },
   "outputs": [],
   "source": [
    "device = torch.device('cpu')\n",
    "model = model.to(device)"
   ]
  },
  {
   "cell_type": "code",
   "execution_count": 7,
   "id": "de90962a",
   "metadata": {
    "cell_id": "00005-648796e2-0dd3-47f7-8e6a-16a5c3602418",
    "deepnote_cell_type": "code",
    "deepnote_to_be_reexecuted": false,
    "execution_millis": 6784,
    "execution_start": 1620763131448,
    "source_hash": "b9c60804"
   },
   "outputs": [
    {
     "name": "stderr",
     "output_type": "stream",
     "text": [
      "100%|██████████| 871/871 [03:34<00:00,  4.07it/s]\n"
     ]
    }
   ],
   "source": [
    "losses = []\n",
    "mses =[]\n",
    "labels = []\n",
    "with torch.no_grad():\n",
    "    model.eval()\n",
    "    for row in tqdm(test_dataloader):\n",
    "        categorical = row[0].to(device)\n",
    "        continuous =  row[1].to(device).unsqueeze(-2)\n",
    "        labels.append(row[2])\n",
    "        x = model.categorical_emb(categorical, continuous) \n",
    "        x_hat, mu = model(x)\n",
    "        # dist = -0.5 * torch.sum(1 + logvar - mu.pow(2) - logvar.exp(), dim = -1)\n",
    "        mse = torch.sum(torch.nn.functional.mse_loss(x_hat, continuous, reduction='none'), dim=-1)\n",
    "        mses.append(mse.squeeze())\n",
    "        # dist = torch.mean(dist, dim=-1)\n",
    "        # losses.append(dist.squeeze())"
   ]
  },
  {
   "cell_type": "code",
   "execution_count": 8,
   "id": "9d4d11fd",
   "metadata": {
    "cell_id": "00006-49869574-6b85-4d2e-8f68-202d92f7df89",
    "deepnote_cell_type": "code",
    "deepnote_to_be_reexecuted": false,
    "execution_millis": 7,
    "execution_start": 1620759147439,
    "source_hash": "696c3656"
   },
   "outputs": [
    {
     "ename": "IndexError",
     "evalue": "list index out of range",
     "output_type": "error",
     "traceback": [
      "\u001b[0;31m---------------------------------------------------------------------------\u001b[0m",
      "\u001b[0;31mIndexError\u001b[0m                                Traceback (most recent call last)",
      "\u001b[0;32m<ipython-input-8-60736a91ecab>\u001b[0m in \u001b[0;36m<module>\u001b[0;34m\u001b[0m\n\u001b[0;32m----> 1\u001b[0;31m \u001b[0mlosses\u001b[0m\u001b[0;34m[\u001b[0m\u001b[0;36m0\u001b[0m\u001b[0;34m]\u001b[0m\u001b[0;34m.\u001b[0m\u001b[0mshape\u001b[0m\u001b[0;34m\u001b[0m\u001b[0;34m\u001b[0m\u001b[0m\n\u001b[0m",
      "\u001b[0;31mIndexError\u001b[0m: list index out of range"
     ]
    }
   ],
   "source": [
    "losses[0].shape"
   ]
  },
  {
   "cell_type": "code",
   "execution_count": null,
   "id": "511c7bca",
   "metadata": {},
   "outputs": [],
   "source": [
    "torch.cat(losses)"
   ]
  },
  {
   "cell_type": "code",
   "execution_count": null,
   "id": "8ff0ee68",
   "metadata": {
    "cell_id": "00007-ca0a9a64-e4be-4cf2-938b-d480b89c0ae2",
    "deepnote_cell_type": "code",
    "deepnote_to_be_reexecuted": false,
    "execution_millis": 493,
    "execution_start": 1620759327409,
    "source_hash": "1c79129e"
   },
   "outputs": [],
   "source": [
    "new_dict = {'dist': torch.cat(losses).cpu().numpy(), 'mse':torch.cat(mses).cpu().numpy()}\n",
    "labels_cat = torch.cat(labels) != 0\n",
    "# losses_cat = torch.cat(val_losses).cpu()\n",
    "test_out = pd.DataFrame({ 'is_benign':labels_cat, 'attack_class': torch.cat(labels).numpy(), **new_dict})\n",
    "test_out.to_csv('test_results_ae.csv')"
   ]
  },
  {
   "cell_type": "code",
   "execution_count": null,
   "id": "f5f60649",
   "metadata": {
    "cell_id": "00008-65f9ee8c-8440-418a-8c38-b0266409a6ad",
    "deepnote_cell_type": "code",
    "deepnote_to_be_reexecuted": false,
    "execution_millis": 7,
    "execution_start": 1620759329566,
    "source_hash": "341b7e0c"
   },
   "outputs": [],
   "source": [
    "import numpy as np\n",
    "new_dict['dist'][np.isnan(new_dict['dist'])] = 0\n",
    "new_dict['dist'][np.isinf(new_dict['dist'])] = 1e+6"
   ]
  },
  {
   "cell_type": "code",
   "execution_count": null,
   "id": "390bf68f",
   "metadata": {
    "cell_id": "00009-64fd2b85-f0ae-49d1-8bec-64c2328d7994",
    "deepnote_cell_type": "code",
    "deepnote_to_be_reexecuted": false,
    "execution_millis": 1832,
    "execution_start": 1620759333652,
    "source_hash": "6fbb4906"
   },
   "outputs": [],
   "source": [
    "from sklearn.metrics import auc, roc_curve\n",
    "import matplotlib.pyplot as plt\n",
    "fpr, tpr, thresholds = roc_curve(labels_cat.int().numpy(), new_dict['mse'])\n",
    "roc_auc = auc(fpr, tpr)\n",
    "fig, ax = plt.subplots()\n",
    "ax.plot(fpr, tpr, \n",
    "             label='ROC curve (area = {0:0.2f})'\n",
    "             ''.format(roc_auc))\n",
    "ax.plot([0, 1], [0, 1], color='navy', linestyle='--')\n",
    "ax.set_xlim([0.0, 1.0])\n",
    "ax.set_ylim([0.0, 1.05])\n",
    "ax.set_xlabel('False Positive Rate')\n",
    "ax.set_ylabel('True Positive Rate')\n",
    "ax.legend(loc=\"lower right\")"
   ]
  },
  {
   "cell_type": "code",
   "execution_count": null,
   "id": "d59f159a",
   "metadata": {
    "cell_id": "00010-96f7617c-e65f-4a71-bbf9-8c91d798efb5",
    "deepnote_cell_type": "code",
    "deepnote_to_be_reexecuted": false,
    "execution_millis": 30,
    "execution_start": 1620759339593,
    "source_hash": "c7d896e3"
   },
   "outputs": [],
   "source": [
    "thresholds.shape"
   ]
  },
  {
   "cell_type": "code",
   "execution_count": null,
   "id": "9246c142",
   "metadata": {
    "cell_id": "00011-2c019469-b613-45d6-8213-75df1c390d15",
    "deepnote_cell_type": "code",
    "deepnote_to_be_reexecuted": false,
    "execution_millis": 3,
    "execution_start": 1620759341273,
    "source_hash": "a67d66f3"
   },
   "outputs": [],
   "source": [
    "IDX = -10\n",
    "threshold = thresholds[IDX]\n",
    "test_out['predicted'] = test_out.dist < threshold"
   ]
  },
  {
   "cell_type": "code",
   "execution_count": null,
   "id": "6ce7e44d",
   "metadata": {
    "cell_id": "00012-70214be2-7276-4289-ae49-d320d0bf5457",
    "deepnote_cell_type": "code",
    "deepnote_to_be_reexecuted": false,
    "execution_millis": 319,
    "execution_start": 1620759342927,
    "source_hash": "c4aef4c4"
   },
   "outputs": [],
   "source": [
    "from sklearn.metrics import classification_report, f1_score\n",
    "y_gts = test_out['is_benign']\n",
    "y_preds = test_out['predicted']\n",
    "rep = classification_report(y_gts, y_preds, target_names=['Attack', 'No attack'])\n",
    "print(rep)"
   ]
  },
  {
   "cell_type": "code",
   "execution_count": null,
   "id": "ed0af3a6",
   "metadata": {
    "cell_id": "00013-a4cae732-4b0e-4642-9971-b7e50442c505",
    "deepnote_cell_type": "code",
    "deepnote_to_be_reexecuted": true,
    "source_hash": "b623e53d"
   },
   "outputs": [],
   "source": []
  },
  {
   "cell_type": "markdown",
   "id": "a96d98f7",
   "metadata": {
    "created_in_deepnote_cell": true,
    "deepnote_cell_type": "markdown",
    "tags": []
   },
   "source": [
    "<a style='text-decoration:none;line-height:16px;display:flex;color:#5B5B62;padding:10px;justify-content:end;' href='https://deepnote.com?utm_source=created-in-deepnote-cell&projectId=56316f98-13a2-452c-be31-8997c1e2f7a7' target=\"_blank\">\n",
    "<img alt='Created in deepnote.com' style='display:inline;max-height:16px;margin:0px;margin-right:7.5px;' src='data:image/svg+xml;base64,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' > </img>\n",
    "Created in <span style='font-weight:600;margin-left:4px;'>Deepnote</span></a>"
   ]
  }
 ],
 "metadata": {
  "deepnote": {
   "is_reactive": false
  },
  "deepnote_execution_queue": [],
  "deepnote_notebook_id": "ad046baa-65a0-4af7-ba87-42caa7d155d4",
  "kernelspec": {
   "display_name": "Python 3",
   "language": "python",
   "name": "python3"
  },
  "language_info": {
   "codemirror_mode": {
    "name": "ipython",
    "version": 3
   },
   "file_extension": ".py",
   "mimetype": "text/x-python",
   "name": "python",
   "nbconvert_exporter": "python",
   "pygments_lexer": "ipython3",
   "version": "3.8.5"
  }
 },
 "nbformat": 4,
 "nbformat_minor": 5
}
