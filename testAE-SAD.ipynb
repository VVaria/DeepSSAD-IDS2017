{
 "cells": [
  {
   "cell_type": "code",
   "execution_count": 1,
   "id": "50f43718",
   "metadata": {
    "cell_id": "00000-3ff19059-9b79-4722-aff4-d382ab8e6f41",
    "deepnote_cell_type": "code"
   },
   "outputs": [],
   "source": [
    "import torch\n",
    "from pkg.datasets import IDSDataset\n",
    "from pkg.lit_sad_ae import LitIDSAE_SAD"
   ]
  },
  {
   "cell_type": "code",
   "execution_count": 2,
   "id": "6b712bd3",
   "metadata": {
    "cell_id": "00001-4fb0b3d2-9b95-477d-8045-591acc733771",
    "deepnote_cell_type": "code",
    "deepnote_to_be_reexecuted": false,
    "execution_millis": 327,
    "execution_start": 1619541288740,
    "source_hash": "6f8a64d9",
    "tags": []
   },
   "outputs": [],
   "source": [
    "from torchvision import transforms, utils\n",
    "from tqdm import tqdm\n",
    "import pickle\n",
    "import pandas as pd\n",
    "# Маппинги айпи адресов\n",
    "with open('Data/sip_map.pkl', 'rb') as f:\n",
    "    sip_map = pickle.load(f)\n",
    "with open('Data/dip_map.pkl', 'rb') as f:\n",
    "    dip_map = pickle.load(f)"
   ]
  },
  {
   "cell_type": "code",
   "execution_count": 3,
   "id": "0c793f24",
   "metadata": {
    "cell_id": "00003-9397846d-f8cd-4df7-8189-c07423aa58e8",
    "deepnote_cell_type": "code"
   },
   "outputs": [],
   "source": [
    "PATH = 'Models/ae-sad-epoch=4-step=20187.ckpt'\n",
    "model = LitIDSAE_SAD.load_from_checkpoint(PATH, sip_map=sip_map, dip_map=dip_map, use_category=False)"
   ]
  },
  {
   "cell_type": "code",
   "execution_count": 4,
   "id": "a243e499",
   "metadata": {
    "cell_id": "00004-f29dde83-2b6d-44b2-84ff-7f03cbf48392",
    "deepnote_cell_type": "code"
   },
   "outputs": [],
   "source": [
    "from torchvision import transforms, utils\n",
    "from tqdm import tqdm, tqdm_notebook\n",
    "import pickle\n",
    "import pandas as pd\n",
    "\n",
    "ds_test = IDSDataset('Data/all_test.csv', sip_map, dip_map, only_anomaly=False, transform=True,\n",
    "                    stat=pd.read_csv('Data/all_stat.csv').rename({0:'count', 1:'mean', 2:'std', 3:'min', 4:'25%', 5:'50%', 6:'75%', 7:'max'}))\n",
    "test_dataloader = torch.utils.data.DataLoader(ds_test, batch_size=3**5,\n",
    "                        shuffle=False, num_workers=4)"
   ]
  },
  {
   "cell_type": "code",
   "execution_count": 5,
   "id": "a3ccc923",
   "metadata": {
    "cell_id": "00005-d08b7c59-fe33-48d6-aece-050c7dcde693",
    "deepnote_cell_type": "code"
   },
   "outputs": [],
   "source": [
    "device = torch.device('cpu')\n",
    "model = model.to(device)"
   ]
  },
  {
   "cell_type": "code",
   "execution_count": 6,
   "id": "cbe522ee",
   "metadata": {
    "cell_id": "00006-9f844aa3-75f1-42eb-b742-6d2043bf30b1",
    "deepnote_cell_type": "code"
   },
   "outputs": [
    {
     "name": "stderr",
     "output_type": "stream",
     "text": [
      "  0%|          | 0/871 [00:00<?, ?it/s]<ipython-input-6-4bd5ffb944e3>:11: UserWarning: Using a target size (torch.Size([128])) that is different to the input size (torch.Size([243, 128])). This will likely lead to incorrect results due to broadcasting. Please ensure they have the same size.\n",
      "  dist = torch.sum(torch.nn.functional.mse_loss(mu.squeeze(), model.m.squeeze(), reduction='none'), dim=-1)\n",
      "100%|█████████▉| 867/871 [00:53<00:00, 14.64it/s]<ipython-input-6-4bd5ffb944e3>:11: UserWarning: Using a target size (torch.Size([128])) that is different to the input size (torch.Size([225, 128])). This will likely lead to incorrect results due to broadcasting. Please ensure they have the same size.\n",
      "  dist = torch.sum(torch.nn.functional.mse_loss(mu.squeeze(), model.m.squeeze(), reduction='none'), dim=-1)\n",
      "100%|██████████| 871/871 [00:53<00:00, 16.26it/s]\n"
     ]
    }
   ],
   "source": [
    "losses = []\n",
    "labels = []\n",
    "with torch.no_grad():\n",
    "    model.eval()\n",
    "    for row in tqdm(test_dataloader):\n",
    "        categorical = row[0].to(device)\n",
    "        continuous =  row[1].to(device).unsqueeze(-2)\n",
    "        labels.append(row[2])\n",
    "        x = model.categorical_emb(categorical, continuous) \n",
    "        mu = model(x)\n",
    "        dist = torch.sum(torch.nn.functional.mse_loss(mu.squeeze(), model.m.squeeze(), reduction='none'), dim=-1)\n",
    "        # dist = torch.mean(dist, dim=-1)\n",
    "        losses.append(dist)"
   ]
  },
  {
   "cell_type": "code",
   "execution_count": 7,
   "id": "3dacfded",
   "metadata": {
    "cell_id": "00007-22e8af7e-25fe-41bb-956e-60d5da8a69b0",
    "deepnote_cell_type": "code"
   },
   "outputs": [],
   "source": [
    "new_dict = {'dist': torch.cat(losses).cpu().numpy()}\n",
    "labels_cat = torch.cat(labels) != 0\n",
    "# losses_cat = torch.cat(val_losses).cpu()\n",
    "test_out = pd.DataFrame({ 'is_attack':labels_cat, 'attack_class': torch.cat(labels).numpy(), **new_dict})\n",
    "test_out.to_csv('test_results_ae_sad.csv')"
   ]
  },
  {
   "cell_type": "code",
   "execution_count": 8,
   "id": "ba9ebe8c",
   "metadata": {
    "cell_id": "00008-ab7ef829-e282-4ef0-9c51-47b3558339fc",
    "deepnote_cell_type": "code"
   },
   "outputs": [],
   "source": [
    "import numpy as np\n",
    "new_dict['dist'][np.isnan(new_dict['dist'])] = 0\n",
    "new_dict['dist'][np.isinf(new_dict['dist'])] = 1e+6"
   ]
  },
  {
   "cell_type": "code",
   "execution_count": 11,
   "id": "a351ea93",
   "metadata": {
    "cell_id": "00009-5ae8bae0-8384-47c4-be7d-af531c47f1c0",
    "deepnote_cell_type": "code"
   },
   "outputs": [],
   "source": [
    "from sklearn.metrics import auc, roc_curve\n",
    "import matplotlib.pyplot as plt\n",
    "fpr, tpr, thresholds = roc_curve(labels_cat.int().numpy(), new_dict['dist'])\n",
    "roc_auc = auc(fpr, tpr)"
   ]
  },
  {
   "cell_type": "code",
   "execution_count": 12,
   "id": "cc5a5efb",
   "metadata": {
    "cell_id": "00010-bdc37fd4-90d4-4a71-9830-fea6f13f41b7",
    "deepnote_cell_type": "code"
   },
   "outputs": [],
   "source": [
    "thresh_dist = np.sqrt((1 - fpr) ** 2 + tpr ** 2)"
   ]
  },
  {
   "cell_type": "code",
   "execution_count": 13,
   "id": "de8b641d",
   "metadata": {
    "cell_id": "00011-d7f13456-c571-4c65-af98-e30b0ce8eb89",
    "deepnote_cell_type": "code"
   },
   "outputs": [
    {
     "data": {
      "text/plain": [
       "2"
      ]
     },
     "execution_count": 13,
     "metadata": {},
     "output_type": "execute_result"
    }
   ],
   "source": [
    "np.argmax(thresh_dist)"
   ]
  },
  {
   "cell_type": "code",
   "execution_count": 14,
   "id": "16c318cf",
   "metadata": {
    "cell_id": "00012-84f8670e-5077-4cb4-9592-296fb2237d0e",
    "deepnote_cell_type": "code"
   },
   "outputs": [],
   "source": [
    "IDX = 2\n",
    "threshold = thresholds[IDX]\n",
    "test_out['predicted'] = test_out.dist > threshold"
   ]
  },
  {
   "cell_type": "code",
   "execution_count": 15,
   "id": "20533070",
   "metadata": {
    "cell_id": "00013-1bf9ee2b-b3b9-49fb-9d4d-ec27757c3536",
    "deepnote_cell_type": "code"
   },
   "outputs": [
    {
     "name": "stdout",
     "output_type": "stream",
     "text": [
      "              precision    recall  f1-score   support\n",
      "\n",
      "   No attack       0.75      1.00      0.86    158628\n",
      "      Attack       1.00      0.00      0.00     53007\n",
      "\n",
      "    accuracy                           0.75    211635\n",
      "   macro avg       0.87      0.50      0.43    211635\n",
      "weighted avg       0.81      0.75      0.64    211635\n",
      "\n"
     ]
    }
   ],
   "source": [
    "from sklearn.metrics import classification_report, f1_score\n",
    "y_gts = test_out['is_attack']\n",
    "y_preds = test_out['predicted']\n",
    "rep = classification_report(y_gts, y_preds, target_names=['No attack', 'Attack'])\n",
    "print(rep)"
   ]
  },
  {
   "cell_type": "code",
   "execution_count": null,
   "id": "2924c764",
   "metadata": {
    "cell_id": "00014-6e688b79-2547-41eb-9024-c5c4ed801892",
    "deepnote_cell_type": "code"
   },
   "outputs": [],
   "source": []
  },
  {
   "cell_type": "markdown",
   "id": "ec821709",
   "metadata": {
    "created_in_deepnote_cell": true,
    "deepnote_cell_type": "markdown",
    "tags": []
   },
   "source": [
    "<a style='text-decoration:none;line-height:16px;display:flex;color:#5B5B62;padding:10px;justify-content:end;' href='https://deepnote.com?utm_source=created-in-deepnote-cell&projectId=56316f98-13a2-452c-be31-8997c1e2f7a7' target=\"_blank\">\n",
    "<img alt='Created in deepnote.com' style='display:inline;max-height:16px;margin:0px;margin-right:7.5px;' src='data:image/svg+xml;base64,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' > </img>\n",
    "Created in <span style='font-weight:600;margin-left:4px;'>Deepnote</span></a>"
   ]
  }
 ],
 "metadata": {
  "deepnote": {},
  "deepnote_execution_queue": [],
  "deepnote_notebook_id": "76964b4a-d573-4043-9cff-a9c0910d73d9",
  "kernelspec": {
   "display_name": "Python 3",
   "language": "python",
   "name": "python3"
  },
  "language_info": {
   "codemirror_mode": {
    "name": "ipython",
    "version": 3
   },
   "file_extension": ".py",
   "mimetype": "text/x-python",
   "name": "python",
   "nbconvert_exporter": "python",
   "pygments_lexer": "ipython3",
   "version": "3.8.5"
  }
 },
 "nbformat": 4,
 "nbformat_minor": 5
}
